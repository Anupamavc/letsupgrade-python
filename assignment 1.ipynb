{
  "nbformat": 4,
  "nbformat_minor": 0,
  "metadata": {
    "colab": {
      "name": "Welcome To Colaboratory",
      "provenance": [],
      "collapsed_sections": [],
      "include_colab_link": true
    },
    "kernelspec": {
      "display_name": "Python 3",
      "name": "python3"
    }
  },
  "cells": [
    {
      "cell_type": "markdown",
      "metadata": {
        "id": "view-in-github",
        "colab_type": "text"
      },
      "source": [
        "<a href=\"https://colab.research.google.com/github/Anupamavc/letsupgrade-python/blob/master/assignment%201.ipynb\" target=\"_parent\"><img src=\"https://colab.research.google.com/assets/colab-badge.svg\" alt=\"Open In Colab\"/></a>"
      ]
    },
    {
      "cell_type": "code",
      "metadata": {
        "id": "6tlBdOUtA3VK",
        "colab_type": "code",
        "colab": {
          "base_uri": "https://localhost:8080/",
          "height": 54
        },
        "outputId": "e6f1472b-d983-4226-940a-151dbb35767a"
      },
      "source": [
        " \n",
        "#append\n",
        " # animals list\n",
        "animals = ['cat', 'dog', 'rabbit']\n",
        " \n",
        "# 'guinea pig' is appended to the animals list\n",
        "animals.append('guinea pig')\n",
        " \n",
        "# Updated animals list\n",
        "print('Updated animals list: ', animals)"
      ],
      "execution_count": 21,
      "outputs": [
        {
          "output_type": "stream",
          "text": [
            "Updated animals list:  ['cat', 'dog', 'rabbit', 'guinea pig']\n"
          ],
          "name": "stdout"
        }
      ]
    },
    {
      "cell_type": "code",
      "metadata": {
        "id": "7EEhODjDA74z",
        "colab_type": "code",
        "colab": {
          "base_uri": "https://localhost:8080/",
          "height": 54
        },
        "outputId": "e21a983b-c8a6-4111-dff1-2b5223c38138"
      },
      "source": [
        " \n",
        "#insert\n",
        " # vowel list\n",
        "vowel = ['a', 'e', 'i', 'u']\n",
        " \n",
        "# 'o' is inserted at index 3\n",
        "# the position of 'o' will be 4th\n",
        "vowel.insert(3, 'o')\n",
        " \n",
        "print('Updated List:', vowel)"
      ],
      "execution_count": 23,
      "outputs": [
        {
          "output_type": "stream",
          "text": [
            "Updated List: ['a', 'e', 'i', 'o', 'u']\n"
          ],
          "name": "stdout"
        }
      ]
    },
    {
      "cell_type": "code",
      "metadata": {
        "id": "9MxZ1VbmBU7z",
        "colab_type": "code",
        "colab": {
          "base_uri": "https://localhost:8080/",
          "height": 54
        },
        "outputId": "316fc258-408e-4370-8824-d090720789d5"
      },
      "source": [
        "#sort\n",
        "# vowels list\n",
        "vowels = ['e', 'a', 'u', 'o', 'i']\n",
        " \n",
        "# sort the vowels\n",
        "vowels.sort()\n",
        " \n",
        "# print vowels\n",
        "print('Sorted list:', vowels)"
      ],
      "execution_count": 24,
      "outputs": [
        {
          "output_type": "stream",
          "text": [
            "Sorted list: ['a', 'e', 'i', 'o', 'u']\n"
          ],
          "name": "stdout"
        }
      ]
    },
    {
      "cell_type": "code",
      "metadata": {
        "id": "21RKLy4MBeEn",
        "colab_type": "code",
        "colab": {
          "base_uri": "https://localhost:8080/",
          "height": 34
        },
        "outputId": "9d97fa0e-be59-4b03-f17e-7b780d5eb06a"
      },
      "source": [
        "#clear\n",
        "# Defining a list\n",
        "list = [{1, 2}, ('a'), ['1.1', '2.2']]\n",
        " \n",
        "# clearing the list\n",
        "list.clear()\n",
        " \n",
        "print('List:', list)"
      ],
      "execution_count": 25,
      "outputs": [
        {
          "output_type": "stream",
          "text": [
            "List: []\n"
          ],
          "name": "stdout"
        }
      ]
    },
    {
      "cell_type": "code",
      "metadata": {
        "id": "cIVa2uYjCDdL",
        "colab_type": "code",
        "colab": {
          "base_uri": "https://localhost:8080/",
          "height": 54
        },
        "outputId": "24ebc67d-3d35-4655-e9fb-76a63994f907"
      },
      "source": [
        "#extend\n",
        "# language list\n",
        "language = ['French', 'English']\n",
        " \n",
        "# another list of language\n",
        "language1 = ['Spanish', 'Portuguese']\n",
        " \n",
        "# appending language1 elements to language\n",
        "language.extend(language1)\n",
        " \n",
        "print('Language List:', language)"
      ],
      "execution_count": 28,
      "outputs": [
        {
          "output_type": "stream",
          "text": [
            "Language List: ['French', 'English', 'Spanish', 'Portuguese']\n"
          ],
          "name": "stdout"
        }
      ]
    },
    {
      "cell_type": "code",
      "metadata": {
        "id": "Mr4MJEWICSHU",
        "colab_type": "code",
        "colab": {
          "base_uri": "https://localhost:8080/",
          "height": 51
        },
        "outputId": "8cf34594-c1b6-44b9-d717-b3b914d82e1f"
      },
      "source": [
        "#copy function in dictionary \n",
        "original = {1:'one', 2:'two'}\n",
        "new = original.copy()\n",
        " \n",
        "print('Orignal: ', original)\n",
        "print('New: ', new)"
      ],
      "execution_count": 29,
      "outputs": [
        {
          "output_type": "stream",
          "text": [
            "Orignal:  {1: 'one', 2: 'two'}\n",
            "New:  {1: 'one', 2: 'two'}\n"
          ],
          "name": "stdout"
        }
      ]
    },
    {
      "cell_type": "code",
      "metadata": {
        "id": "-kR3PFgnC0Fu",
        "colab_type": "code",
        "colab": {
          "base_uri": "https://localhost:8080/",
          "height": 54
        },
        "outputId": "d329ead0-4cd7-464c-f251-c3e4faee7135"
      },
      "source": [
        "#dictionary items\n",
        "# random sales dictionary\n",
        "sales = { 'apple': 2, 'orange': 3, 'grapes': 4 }\n",
        " \n",
        "print(sales.items())"
      ],
      "execution_count": 30,
      "outputs": [
        {
          "output_type": "stream",
          "text": [
            "dict_items([('apple', 2), ('orange', 3), ('grapes', 4)])\n"
          ],
          "name": "stdout"
        }
      ]
    },
    {
      "cell_type": "code",
      "metadata": {
        "id": "GdT6BtMnDFNL",
        "colab_type": "code",
        "colab": {
          "base_uri": "https://localhost:8080/",
          "height": 51
        },
        "outputId": "cb4ca5df-8c3c-4cac-be05-46d1a2604486"
      },
      "source": [
        "# dictionary update \n",
        "d = {1: \"one\", 2: \"three\"}\n",
        "d1 = {2: \"two\"}\n",
        " \n",
        "# updates the value of key 2\n",
        "d.update(d1)\n",
        "print(d)\n",
        " \n",
        "d1 = {3: \"three\"}\n",
        " \n",
        "# adds element with key 3\n",
        "d.update(d1)\n",
        "print(d)"
      ],
      "execution_count": 31,
      "outputs": [
        {
          "output_type": "stream",
          "text": [
            "{1: 'one', 2: 'two'}\n",
            "{1: 'one', 2: 'two', 3: 'three'}\n"
          ],
          "name": "stdout"
        }
      ]
    },
    {
      "cell_type": "code",
      "metadata": {
        "id": "7avX3O5qDOFc",
        "colab_type": "code",
        "colab": {
          "base_uri": "https://localhost:8080/",
          "height": 34
        },
        "outputId": "fac3fbe3-2bb5-430b-8159-c30cb897339b"
      },
      "source": [
        "#dictionary values \n",
        "# random sales dictionary\n",
        "sales = { 'apple': 2, 'orange': 3, 'grapes': 4 }\n",
        " \n",
        "print(sales.values())"
      ],
      "execution_count": 32,
      "outputs": [
        {
          "output_type": "stream",
          "text": [
            "dict_values([2, 3, 4])\n"
          ],
          "name": "stdout"
        }
      ]
    },
    {
      "cell_type": "code",
      "metadata": {
        "id": "CpmuuhBrDpVY",
        "colab_type": "code",
        "colab": {
          "base_uri": "https://localhost:8080/",
          "height": 71
        },
        "outputId": "779e32c3-a516-4e9d-c050-ab0d7602a64d"
      },
      "source": [
        "#set default \n",
        "person = {'name': 'Phill', 'age': 22}\n",
        " \n",
        "age = person.setdefault('age')\n",
        "print('person = ',person)\n",
        "print('Age = ',age)"
      ],
      "execution_count": 35,
      "outputs": [
        {
          "output_type": "stream",
          "text": [
            "person =  {'name': 'Phill', 'age': 22}\n",
            "Age =  22\n"
          ],
          "name": "stdout"
        }
      ]
    },
    {
      "cell_type": "code",
      "metadata": {
        "id": "zZIxEH7KDyGA",
        "colab_type": "code",
        "colab": {
          "base_uri": "https://localhost:8080/",
          "height": 71
        },
        "outputId": "dd83eb03-27e6-4426-80fd-10aee7543237"
      },
      "source": [
        "#to add an element to set\n",
        "# set of vowels\n",
        "vowels = {'a', 'e', 'i', 'u'}\n",
        " \n",
        "# adding 'o'\n",
        "vowels.add('o')\n",
        "print('Vowels are:', vowels)\n",
        " \n",
        "# adding 'a' again\n",
        "vowels.add('a')\n",
        "print('Vowels are:', vowels)"
      ],
      "execution_count": 36,
      "outputs": [
        {
          "output_type": "stream",
          "text": [
            "Vowels are: {'o', 'u', 'i', 'a', 'e'}\n",
            "Vowels are: {'o', 'u', 'i', 'a', 'e'}\n"
          ],
          "name": "stdout"
        }
      ]
    },
    {
      "cell_type": "code",
      "metadata": {
        "id": "SVSYsX2fEId_",
        "colab_type": "code",
        "colab": {
          "base_uri": "https://localhost:8080/",
          "height": 51
        },
        "outputId": "cc736ab6-5d97-4a28-de65-0a91fcb9de3e"
      },
      "source": [
        "# difference() in set \n",
        "A = {'a', 'b', 'c', 'd'}\n",
        "B = {'c', 'f', 'g'}\n",
        " \n",
        "# Equivalent to A-B\n",
        "print(A.difference(B))\n",
        " \n",
        "# Equivalent to B-A\n",
        "print(B.difference(A))"
      ],
      "execution_count": 37,
      "outputs": [
        {
          "output_type": "stream",
          "text": [
            "{'d', 'b', 'a'}\n",
            "{'g', 'f'}\n"
          ],
          "name": "stdout"
        }
      ]
    },
    {
      "cell_type": "code",
      "metadata": {
        "id": "RLnA6b1VEbjz",
        "colab_type": "code",
        "colab": {
          "base_uri": "https://localhost:8080/",
          "height": 86
        },
        "outputId": "865796db-f9bf-4bf1-f773-66c2c4f7e29c"
      },
      "source": [
        "#isdisjoint() in set\n",
        "A = {'a', 'b', 'c', 'd'}\n",
        "B = ['b', 'e', 'f']\n",
        "C = '5de4'\n",
        "D ={1 : 'a', 2 : 'b'}\n",
        "E ={'a' : 1, 'b' : 2}\n",
        " \n",
        "print('Are A and B disjoint?', A.isdisjoint(B))\n",
        "print('Are A and C disjoint?', A.isdisjoint(C))\n",
        "print('Are A and D disjoint?', A.isdisjoint(D))\n",
        "print('Are A and E disjoint?', A.isdisjoint(E))"
      ],
      "execution_count": 39,
      "outputs": [
        {
          "output_type": "stream",
          "text": [
            "Are A and B disjoint? False\n",
            "Are A and C disjoint? False\n",
            "Are A and D disjoint? True\n",
            "Are A and E disjoint? False\n"
          ],
          "name": "stdout"
        }
      ]
    },
    {
      "cell_type": "code",
      "metadata": {
        "id": "p4mBCkYMEttg",
        "colab_type": "code",
        "colab": {
          "base_uri": "https://localhost:8080/",
          "height": 86
        },
        "outputId": "d456b394-a8ca-4393-f0f1-00cd9e0cc953"
      },
      "source": [
        "#issubset()\n",
        "A = {1, 2, 3}\n",
        "B = {1, 2, 3, 4, 5}\n",
        "C = {1, 2, 4, 5}\n",
        " \n",
        "# Returns True\n",
        "print(A.issubset(B))\n",
        " \n",
        "# Returns False\n",
        "# B is not subset of A\n",
        "print(B.issubset(A))\n",
        " \n",
        "# Returns False\n",
        "print(A.issubset(C))\n",
        " \n",
        "# Returns True\n",
        "print(C.issubset(B))"
      ],
      "execution_count": 40,
      "outputs": [
        {
          "output_type": "stream",
          "text": [
            "True\n",
            "False\n",
            "False\n",
            "True\n"
          ],
          "name": "stdout"
        }
      ]
    },
    {
      "cell_type": "code",
      "metadata": {
        "id": "9kWyPnd2FFzn",
        "colab_type": "code",
        "colab": {
          "base_uri": "https://localhost:8080/",
          "height": 106
        },
        "outputId": "06a571a1-f64e-4c6d-ed5d-5a756a8c59b4"
      },
      "source": [
        "#set union()\n",
        "A = {'a', 'c', 'd'}\n",
        "B = {'c', 'd', 2 }\n",
        "C = {1, 2, 3}\n",
        " \n",
        "print('A U B =', A.union(B))\n",
        "print('B U C =', B.union(C))\n",
        "print('A U B U C =', A.union(B, C))\n",
        "print('A.union() =', A.union())"
      ],
      "execution_count": 42,
      "outputs": [
        {
          "output_type": "stream",
          "text": [
            "A U B = {2, 'c', 'd', 'a'}\n",
            "B U C = {1, 2, 3, 'c', 'd'}\n",
            "A U B U C = {1, 2, 3, 'c', 'd', 'a'}\n",
            "A.union() = {'d', 'a', 'c'}\n"
          ],
          "name": "stdout"
        }
      ]
    },
    {
      "cell_type": "code",
      "metadata": {
        "id": "OsEpPR9BFO2Z",
        "colab_type": "code",
        "colab": {
          "base_uri": "https://localhost:8080/",
          "height": 51
        },
        "outputId": "d7daba12-b8e8-47c4-ba0f-b2911f0e8875"
      },
      "source": [
        "# tuple count()\n",
        "# vowels tuple\n",
        "vowels = ('a', 'e', 'i', 'o', 'i', 'u')\n",
        " \n",
        "# count element 'i'\n",
        "count = vowels.count('i')\n",
        " \n",
        "# print count\n",
        "print('The count of i is:', count)\n",
        " \n",
        "# count element 'p'\n",
        "count = vowels.count('p')\n",
        " \n",
        "# print count\n",
        "print('The count of p is:', count)"
      ],
      "execution_count": 43,
      "outputs": [
        {
          "output_type": "stream",
          "text": [
            "The count of i is: 2\n",
            "The count of p is: 0\n"
          ],
          "name": "stdout"
        }
      ]
    },
    {
      "cell_type": "code",
      "metadata": {
        "id": "bY8MtBBwGIK8",
        "colab_type": "code",
        "colab": {
          "base_uri": "https://localhost:8080/",
          "height": 51
        },
        "outputId": "bdb5c1ee-3b10-44a4-a513-291a9ed2ddb9"
      },
      "source": [
        "# tuple index()\n",
        "# vowels tuple\n",
        "vowels = ('a', 'e', 'i', 'o', 'i', 'u')\n",
        " \n",
        "# index of 'e' in vowels\n",
        "index = vowels.index('e')\n",
        "print('The index of e:', index)\n",
        " \n",
        "# element 'i' is searched\n",
        "# index of the first 'i' is returned\n",
        "index = vowels.index('i')\n",
        " \n",
        "print('The index of i:', index)"
      ],
      "execution_count": 44,
      "outputs": [
        {
          "output_type": "stream",
          "text": [
            "The index of e: 1\n",
            "The index of i: 2\n"
          ],
          "name": "stdout"
        }
      ]
    },
    {
      "cell_type": "code",
      "metadata": {
        "id": "b4y109zIGYS7",
        "colab_type": "code",
        "colab": {
          "base_uri": "https://localhost:8080/",
          "height": 71
        },
        "outputId": "5dd75ff7-aba0-4a05-8a73-2152fbff9f04"
      },
      "source": [
        "#string encode ()\n",
        "# unicode string\n",
        "string = 'pythön!'\n",
        " \n",
        "# print string\n",
        "print('The string is:', string)\n",
        " \n",
        "# default encoding to utf-8\n",
        "string_utf = string.encode()\n",
        " \n",
        "# print result\n",
        "print('The encoded version is:', string_utf)"
      ],
      "execution_count": 46,
      "outputs": [
        {
          "output_type": "stream",
          "text": [
            "The string is: pythön!\n",
            "The encoded version is: b'pyth\\xc3\\xb6n!'\n"
          ],
          "name": "stdout"
        }
      ]
    },
    {
      "cell_type": "code",
      "metadata": {
        "id": "Td7iOtWxG0or",
        "colab_type": "code",
        "colab": {
          "base_uri": "https://localhost:8080/",
          "height": 106
        },
        "outputId": "60030588-ac52-432f-93ab-537a40fab07b"
      },
      "source": [
        "# string format()\n",
        " \n",
        "# default arguments\n",
        "print(\"Hello {}, your balance is {}.\".format(\"Adam\", 230.2346))\n",
        " \n",
        "# positional arguments\n",
        "print(\"Hello {0}, your balance is {1}.\".format(\"Adam\", 230.2346))\n",
        " \n",
        "# keyword arguments\n",
        "print(\"Hello {name}, your balance is {blc}.\".format(name=\"Adam\", blc=230.2346))\n",
        " \n",
        "# mixed arguments\n",
        "print(\"Hello {0}, your balance is {blc}.\".format(\"Adam\", blc=230.2346))"
      ],
      "execution_count": 47,
      "outputs": [
        {
          "output_type": "stream",
          "text": [
            "Hello Adam, your balance is 230.2346.\n",
            "Hello Adam, your balance is 230.2346.\n",
            "Hello Adam, your balance is 230.2346.\n",
            "Hello Adam, your balance is 230.2346.\n"
          ],
          "name": "stdout"
        }
      ]
    },
    {
      "cell_type": "code",
      "metadata": {
        "id": "ULnmN4y0HKFX",
        "colab_type": "code",
        "colab": {
          "base_uri": "https://localhost:8080/",
          "height": 89
        },
        "outputId": "32a59a27-dd9f-4f44-b062-351a8537efc1"
      },
      "source": [
        "#string replace\n",
        "song = 'cold, cold heart'\n",
        "replaced_song = song.replace('o', 'e')\n",
        " \n",
        "# The original string is unchanged\n",
        "print('Original string:', song)\n",
        " \n",
        "print('Replaced string:', replaced_song)\n",
        " \n",
        "song = 'let it be, let it be, let it be'\n",
        " \n",
        "# maximum of 0 substring is replaced\n",
        "# returns copy of the original string\n",
        "print(song.replace('let', 'so', 0))"
      ],
      "execution_count": 48,
      "outputs": [
        {
          "output_type": "stream",
          "text": [
            "Original string: cold, cold heart\n",
            "Replaced string: celd, celd heart\n",
            "let it be, let it be, let it be\n"
          ],
          "name": "stdout"
        }
      ]
    },
    {
      "cell_type": "code",
      "metadata": {
        "id": "woqocf6BJ5UQ",
        "colab_type": "code",
        "colab": {
          "base_uri": "https://localhost:8080/",
          "height": 69
        },
        "outputId": "12f2dceb-d405-4446-936a-d65852901d50"
      },
      "source": [
        "#string swapcase\n",
        "# example string\n",
        "string = \"THIS SHOULD ALL BE LOWERCASE.\"\n",
        "print(string.swapcase())\n",
        " \n",
        "string = \"this should all be uppercase.\"\n",
        "print(string.swapcase())\n",
        " \n",
        "string = \"ThIs ShOuLd Be MiXeD cAsEd.\"\n",
        "print(string.swapcase())"
      ],
      "execution_count": 49,
      "outputs": [
        {
          "output_type": "stream",
          "text": [
            "this should all be lowercase.\n",
            "THIS SHOULD ALL BE UPPERCASE.\n",
            "tHiS sHoUlD bE mIxEd CaSeD.\n"
          ],
          "name": "stdout"
        }
      ]
    },
    {
      "cell_type": "code",
      "metadata": {
        "id": "FZNq9eQGKQbe",
        "colab_type": "code",
        "colab": {
          "base_uri": "https://localhost:8080/",
          "height": 51
        },
        "outputId": "e1fafea6-c193-4184-cab3-71d1d2da8bfc"
      },
      "source": [
        "#string translate\n",
        "# first string\n",
        "firstString = \"abc\"\n",
        "secondString = \"ghi\"\n",
        "thirdString = \"ab\"\n",
        " \n",
        "string = \"abcdef\"\n",
        "print(\"Original string:\", string)\n",
        " \n",
        "translation = string.maketrans(firstString, secondString, thirdString)\n",
        " \n",
        "# translate string\n",
        "print(\"Translated string:\", string.translate(translation))"
      ],
      "execution_count": 50,
      "outputs": [
        {
          "output_type": "stream",
          "text": [
            "Original string: abcdef\n",
            "Translated string: idef\n"
          ],
          "name": "stdout"
        }
      ]
    }
  ]
}