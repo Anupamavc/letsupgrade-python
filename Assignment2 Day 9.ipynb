{
  "nbformat": 4,
  "nbformat_minor": 0,
  "metadata": {
    "colab": {
      "name": "Welcome To Colaboratory",
      "provenance": [],
      "collapsed_sections": [],
      "include_colab_link": true
    },
    "kernelspec": {
      "display_name": "Python 3",
      "name": "python3"
    }
  },
  "cells": [
    {
      "cell_type": "markdown",
      "metadata": {
        "id": "view-in-github",
        "colab_type": "text"
      },
      "source": [
        "<a href=\"https://colab.research.google.com/github/Anupamavc/letsupgrade-python/blob/master/Assignment2%20Day%209.ipynb\" target=\"_parent\"><img src=\"https://colab.research.google.com/assets/colab-badge.svg\" alt=\"Open In Colab\"/></a>"
      ]
    },
    {
      "cell_type": "code",
      "metadata": {
        "id": "p57_ZpdGFpF4",
        "colab_type": "code",
        "colab": {
          "base_uri": "https://localhost:8080/",
          "height": 34
        },
        "outputId": "9de62867-3519-44b7-8714-cdc8a0b6b66b"
      },
      "source": [
        " \n",
        "# Python program to check if  \n",
        "# given number is prime or not \n",
        " \n",
        "  \n",
        " \n",
        "num = 11\n",
        " \n",
        "  \n",
        "# If given number is greater than 1 \n",
        " \n",
        "if num > 1: \n",
        " \n",
        "      \n",
        " \n",
        "   # Iterate from 2 to n / 2  \n",
        " \n",
        "   for i in range(2, num): \n",
        " \n",
        "         \n",
        " \n",
        "       # If num is divisible by any number between  \n",
        " \n",
        "       # 2 and n / 2, it is not prime  \n",
        " \n",
        "       if (num % i) == 0: \n",
        " \n",
        "           print(num, \"is not a prime number\") \n",
        " \n",
        "           break\n",
        " \n",
        "   else: \n",
        " \n",
        "       print(num, \"is a prime number\") \n",
        " \n",
        "  \n",
        " \n",
        "else: \n",
        " \n",
        "   print(num, \"is not a prime number\")"
      ],
      "execution_count": 21,
      "outputs": [
        {
          "output_type": "stream",
          "text": [
            "11 is a prime number\n"
          ],
          "name": "stdout"
        }
      ]
    },
    {
      "cell_type": "code",
      "metadata": {
        "id": "XMyGYE5YFvSF",
        "colab_type": "code",
        "colab": {
          "base_uri": "https://localhost:8080/",
          "height": 34
        },
        "outputId": "bffb55da-04c8-404d-efb5-db1207ec1adb"
      },
      "source": [
        " \n",
        "# Python program to check if  \n",
        "# given number is prime or not \n",
        " \n",
        "  \n",
        " \n",
        "num = 6\n",
        " \n",
        "  \n",
        "# If given number is greater than 1 \n",
        " \n",
        "if num > 1: \n",
        " \n",
        "      \n",
        " \n",
        "   # Iterate from 2 to n / 2  \n",
        " \n",
        "   for i in range(2, num): \n",
        " \n",
        "         \n",
        " \n",
        "       # If num is divisible by any number between  \n",
        " \n",
        "       # 2 and n / 2, it is not prime  \n",
        " \n",
        "       if (num % i) == 0: \n",
        " \n",
        "           print(num, \"is not a prime number\") \n",
        " \n",
        "           break\n",
        " \n",
        "   else: \n",
        " \n",
        "       print(num, \"is a prime number\") \n",
        " \n",
        "  \n",
        " \n",
        "else: \n",
        " \n",
        "   print(num, \"is not a prime number\")"
      ],
      "execution_count": 22,
      "outputs": [
        {
          "output_type": "stream",
          "text": [
            "6 is not a prime number\n"
          ],
          "name": "stdout"
        }
      ]
    },
    {
      "cell_type": "code",
      "metadata": {
        "id": "KfJK7qimHg1T",
        "colab_type": "code",
        "colab": {
          "base_uri": "https://localhost:8080/",
          "height": 359
        },
        "outputId": "22ed2009-1271-4da8-b390-610197863f11"
      },
      "source": [
        " import unittest\n",
        " \n",
        "class TestStringMethods(unittest.TestCase):\n",
        " \n",
        "    def test_upper(self):\n",
        "        self.assertEqual('foo'.upper(), 'FOO')\n",
        " \n",
        "    def test_isupper(self):\n",
        "        self.assertTrue('FOO'.isupper())\n",
        "        self.assertFalse('Foo'.isupper())\n",
        " \n",
        "    def test_split(self):\n",
        "        s = 'hello world'\n",
        "        self.assertEqual(s.split(), ['hello', 'world'])\n",
        "        # check that s.split fails when the separator is not a string\n",
        "        with self.assertRaises(TypeError):\n",
        "            s.split(2)\n",
        " \n",
        "if __name__ == '__main__':\n",
        "    unittest.main()"
      ],
      "execution_count": 28,
      "outputs": [
        {
          "output_type": "stream",
          "text": [
            "E\n",
            "======================================================================\n",
            "ERROR: /root/ (unittest.loader._FailedTest)\n",
            "----------------------------------------------------------------------\n",
            "AttributeError: module '__main__' has no attribute '/root/'\n",
            "\n",
            "----------------------------------------------------------------------\n",
            "Ran 1 test in 0.001s\n",
            "\n",
            "FAILED (errors=1)\n"
          ],
          "name": "stderr"
        },
        {
          "output_type": "error",
          "ename": "SystemExit",
          "evalue": "ignored",
          "traceback": [
            "An exception has occurred, use %tb to see the full traceback.\n",
            "\u001b[0;31mSystemExit\u001b[0m\u001b[0;31m:\u001b[0m True\n"
          ]
        },
        {
          "output_type": "stream",
          "text": [
            "/usr/local/lib/python3.6/dist-packages/IPython/core/interactiveshell.py:2890: UserWarning: To exit: use 'exit', 'quit', or Ctrl-D.\n",
            "  warn(\"To exit: use 'exit', 'quit', or Ctrl-D.\", stacklevel=1)\n"
          ],
          "name": "stderr"
        }
      ]
    },
    {
      "cell_type": "code",
      "metadata": {
        "id": "jlSJ7x0YHnIt",
        "colab_type": "code",
        "colab": {
          "base_uri": "https://localhost:8080/",
          "height": 34
        },
        "outputId": "ac1c05ed-cc42-4da7-c522-f5bd1d184de3"
      },
      "source": [
        " def test_sum():\n",
        "    assert sum([1, 2, 3]) == 6, \"Should be 6\"\n",
        " \n",
        "if __name__ == \"__main__\":\n",
        "    test_sum()\n",
        "    print(\"Everything passed\")"
      ],
      "execution_count": 29,
      "outputs": [
        {
          "output_type": "stream",
          "text": [
            "Everything passed\n"
          ],
          "name": "stdout"
        }
      ]
    },
    {
      "cell_type": "code",
      "metadata": {
        "id": "-tBm8AgJHSzY",
        "colab_type": "code",
        "colab": {}
      },
      "source": [
        " def test_sum():\n",
        "    assert sum([1, 2, 3]) == 6, \"Should be 6\"\n",
        " \n",
        "def test_sum_tuple():\n",
        "    assert sum((1, 2, 2)) == 6, \"Should be 6\""
      ],
      "execution_count": 32,
      "outputs": []
    },
    {
      "cell_type": "code",
      "metadata": {
        "id": "PYfwIInXIB56",
        "colab_type": "code",
        "colab": {}
      },
      "source": [
        ""
      ],
      "execution_count": null,
      "outputs": []
    }
  ]
}