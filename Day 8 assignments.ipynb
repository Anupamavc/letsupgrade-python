{
  "nbformat": 4,
  "nbformat_minor": 0,
  "metadata": {
    "colab": {
      "name": "Welcome To Colaboratory",
      "provenance": [],
      "collapsed_sections": [],
      "include_colab_link": true
    },
    "kernelspec": {
      "display_name": "Python 3",
      "name": "python3"
    }
  },
  "cells": [
    {
      "cell_type": "markdown",
      "metadata": {
        "id": "view-in-github",
        "colab_type": "text"
      },
      "source": [
        "<a href=\"https://colab.research.google.com/github/Anupamavc/letsupgrade-python/blob/master/Day%208%20assignments.ipynb\" target=\"_parent\"><img src=\"https://colab.research.google.com/assets/colab-badge.svg\" alt=\"Open In Colab\"/></a>"
      ]
    },
    {
      "cell_type": "code",
      "metadata": {
        "id": "OAOcw56l9vqy",
        "colab_type": "code",
        "colab": {
          "base_uri": "https://localhost:8080/",
          "height": 89
        },
        "outputId": "47a14af0-42ca-4760-bd22-a7a2a5594f13"
      },
      "source": [
        " \n",
        "# defining a decorator \n",
        " \n",
        "def hello_decorator(func): \n",
        " \n",
        "  \n",
        " \n",
        "    # inner1 is a Wrapper function in  \n",
        " \n",
        "    # which the argument is called \n",
        " \n",
        "      \n",
        " \n",
        "    # inner function can access the outer local \n",
        " \n",
        "    # functions like in this case \"func\" \n",
        " \n",
        "    def inner1(): \n",
        " \n",
        "        print(\"Hello, this is before function execution\") \n",
        " \n",
        "  \n",
        " \n",
        "        # calling the actual function now \n",
        " \n",
        "        # inside the wrapper function. \n",
        " \n",
        "        func() \n",
        " \n",
        "  \n",
        " \n",
        "        print(\"This is after function execution\") \n",
        " \n",
        "          \n",
        " \n",
        "    return inner1 \n",
        " \n",
        "  \n",
        " \n",
        "  \n",
        " \n",
        "# defining a function, to be called inside wrapper \n",
        " \n",
        "def function_to_be_used(): \n",
        " \n",
        "    print(\"This is inside the function !!\") \n",
        " \n",
        "  \n",
        " \n",
        "  \n",
        " \n",
        "# passing 'function_to_be_used' inside the \n",
        " \n",
        "# decorator to control its behavior \n",
        " \n",
        "function_to_be_used = hello_decorator(function_to_be_used) \n",
        " \n",
        "  \n",
        " \n",
        "  \n",
        " \n",
        "# calling the function \n",
        " \n",
        "function_to_be_used()"
      ],
      "execution_count": 1,
      "outputs": [
        {
          "output_type": "stream",
          "text": [
            "Hello, this is before function execution\n",
            "This is inside the function !!\n",
            "This is after function execution\n"
          ],
          "name": "stdout"
        }
      ]
    },
    {
      "cell_type": "code",
      "metadata": {
        "id": "7-jGtzEFBWO4",
        "colab_type": "code",
        "colab": {
          "base_uri": "https://localhost:8080/",
          "height": 210
        },
        "outputId": "ddc6d676-d338-43ad-f5ab-aacd97b740cb"
      },
      "source": [
        " # import module sys to get the type of exception\n",
        "import sys\n",
        " \n",
        "randomList = ['a', 0, 2]\n",
        " \n",
        "for entry in randomList:\n",
        "    try:\n",
        "        print(\"The entry is\", entry)\n",
        "        r = 1/int(entry)\n",
        "        break\n",
        "    except:\n",
        "        print(\"Oops!\", sys.exc_info()[0], \"occurred.\")\n",
        "        print(\"Next entry.\")\n",
        "        print()\n",
        "print(\"The reciprocal of\", entry, \"is\", r)"
      ],
      "execution_count": 8,
      "outputs": [
        {
          "output_type": "stream",
          "text": [
            "The entry is a\n",
            "Oops! <class 'ValueError'> occurred.\n",
            "Next entry.\n",
            "\n",
            "The entry is 0\n",
            "Oops! <class 'ZeroDivisionError'> occurred.\n",
            "Next entry.\n",
            "\n",
            "The entry is 2\n",
            "The reciprocal of 2 is 0.5\n"
          ],
          "name": "stdout"
        }
      ]
    },
    {
      "cell_type": "code",
      "metadata": {
        "id": "sFtuVvWQCQei",
        "colab_type": "code",
        "colab": {
          "base_uri": "https://localhost:8080/",
          "height": 51
        },
        "outputId": "e34a5dfe-cc7e-4573-930a-d88d2c34db6f"
      },
      "source": [
        " class Attributes(object):\n",
        "    a = 2\n",
        "    print (a)\n",
        " \n",
        "try:\n",
        "    object = Attributes()\n",
        "    print (object.attribute)\n",
        "except AttributeError:\n",
        "    print (\"Attribute Exception Raised.\")"
      ],
      "execution_count": 13,
      "outputs": [
        {
          "output_type": "stream",
          "text": [
            "2\n",
            "Attribute Exception Raised.\n"
          ],
          "name": "stdout"
        }
      ]
    },
    {
      "cell_type": "code",
      "metadata": {
        "id": "pmL6xvotCWv5",
        "colab_type": "code",
        "colab": {
          "base_uri": "https://localhost:8080/",
          "height": 54
        },
        "outputId": "468c959a-229f-46ea-b604-544581c7e6ec"
      },
      "source": [
        " try:\n",
        "    print (ans)\n",
        "except NameError:  \n",
        "    print (\"NameError: name 'ans' is not defined\")\n",
        "else:  \n",
        "    print (\"Success, no error!\")"
      ],
      "execution_count": 14,
      "outputs": [
        {
          "output_type": "stream",
          "text": [
            "NameError: name 'ans' is not defined\n"
          ],
          "name": "stdout"
        }
      ]
    },
    {
      "cell_type": "code",
      "metadata": {
        "id": "jgpObrucDCSe",
        "colab_type": "code",
        "colab": {}
      },
      "source": [
        " \n",
        "# Python program to demonstrate \n",
        "# opening a file \n",
        " \n",
        "  \n",
        " \n",
        "  \n",
        "# Open function to open the file \"myfile.txt\" \n",
        "# (same directory) in append mode and store \n",
        "# it's reference in the variable file1 \n",
        " \n",
        "file1 = open(\"myfile.txt\", \"a\") \n",
        " \n",
        "  \n",
        "# Writing to file \n",
        " \n",
        "file1.write(\"\\nWriting to file :)\") \n",
        " \n",
        "  \n",
        "# Closing file \n",
        "file1.close()"
      ],
      "execution_count": 20,
      "outputs": []
    }
  ]
}