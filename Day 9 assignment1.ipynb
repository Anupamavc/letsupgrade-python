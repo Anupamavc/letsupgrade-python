{
  "nbformat": 4,
  "nbformat_minor": 0,
  "metadata": {
    "colab": {
      "name": "Welcome To Colaboratory",
      "provenance": [],
      "collapsed_sections": [],
      "include_colab_link": true
    },
    "kernelspec": {
      "display_name": "Python 3",
      "name": "python3"
    }
  },
  "cells": [
    {
      "cell_type": "markdown",
      "metadata": {
        "id": "view-in-github",
        "colab_type": "text"
      },
      "source": [
        "<a href=\"https://colab.research.google.com/github/Anupamavc/letsupgrade-python/blob/master/Day%209%20assignment1.ipynb\" target=\"_parent\"><img src=\"https://colab.research.google.com/assets/colab-badge.svg\" alt=\"Open In Colab\"/></a>"
      ]
    },
    {
      "cell_type": "code",
      "metadata": {
        "id": "bF6SVnKGKgG1",
        "colab_type": "code",
        "colab": {
          "base_uri": "https://localhost:8080/",
          "height": 69
        },
        "outputId": "8d3fecfa-a4d7-4467-d021-135488af0c87"
      },
      "source": [
        " \n",
        "def simpleGeneratorFun(): \n",
        " \n",
        "    yield 1            \n",
        " \n",
        "    yield 2            \n",
        " \n",
        "    yield 3            \n",
        " \n",
        "   \n",
        "# Driver code to check above generator function \n",
        " \n",
        "for value in simpleGeneratorFun():  \n",
        " \n",
        "    print(value)"
      ],
      "execution_count": 34,
      "outputs": [
        {
          "output_type": "stream",
          "text": [
            "1\n",
            "2\n",
            "3\n"
          ],
          "name": "stdout"
        }
      ]
    },
    {
      "cell_type": "code",
      "metadata": {
        "id": "ybzi5pVFLFRJ",
        "colab_type": "code",
        "colab": {
          "base_uri": "https://localhost:8080/",
          "height": 86
        },
        "outputId": "e8701a2d-6b17-4801-b8f7-f0647c39acea"
      },
      "source": [
        " for num in range(100,1000):\n",
        "  temp=num\n",
        "  sum=0\n",
        "  while temp>0:\n",
        "    digit=temp%10\n",
        "    sum=sum+digit**3\n",
        "    temp=temp//10\n",
        " \n",
        "  if sum==num:\n",
        "    print (num)"
      ],
      "execution_count": 36,
      "outputs": [
        {
          "output_type": "stream",
          "text": [
            "153\n",
            "370\n",
            "371\n",
            "407\n"
          ],
          "name": "stdout"
        }
      ]
    },
    {
      "cell_type": "code",
      "metadata": {
        "id": "n6YzLLEgLQSR",
        "colab_type": "code",
        "colab": {
          "base_uri": "https://localhost:8080/",
          "height": 103
        },
        "outputId": "a67d1d79-9274-460b-d0b8-218f86797602"
      },
      "source": [
        " for num in range(1,1000):\n",
        "  temp=num\n",
        "  sum=0\n",
        "  while temp>0:\n",
        "    digit=temp%10\n",
        "    sum=sum+digit**3\n",
        "    temp=temp//10\n",
        " \n",
        "  if sum==num:\n",
        "    print (num)"
      ],
      "execution_count": 37,
      "outputs": [
        {
          "output_type": "stream",
          "text": [
            "1\n",
            "153\n",
            "370\n",
            "371\n",
            "407\n"
          ],
          "name": "stdout"
        }
      ]
    },
    {
      "cell_type": "code",
      "metadata": {
        "id": "Atlf_pqGLcBR",
        "colab_type": "code",
        "colab": {}
      },
      "source": [
        ""
      ],
      "execution_count": null,
      "outputs": []
    }
  ]
}